{
  "nbformat": 4,
  "nbformat_minor": 0,
  "metadata": {
    "colab": {
      "name": "Practice: Implement a GRU Language Model.ipynb",
      "provenance": [],
      "collapsed_sections": [],
      "toc_visible": true
    },
    "kernelspec": {
      "name": "python3",
      "display_name": "Python 3"
    }
  },
  "cells": [
    {
      "cell_type": "markdown",
      "metadata": {
        "id": "MGF5gVSt57vB",
        "colab_type": "text"
      },
      "source": [
        "# Practice: Implement a GRU Language Model\n",
        "\n",
        "After reading this tutorial, you may know:\n",
        "\n",
        "*  How to use cotk.dataloader downloading and loading dataset.\n",
        "\n",
        "*  How to train model with the support of cotk.\n",
        "\n",
        "*  How to use cotk.metric evaluating models.\n",
        "\n",
        "cotk does **not** rely on any deep learning framework, so you can even use shallow models like ngram language model. However, this tutorial constructs neural networks with pytorch, so make sure you have installed the following package:\n",
        "\n",
        "*  Python >= 3.5\n",
        "\n",
        "*  cotk\n",
        "\n",
        "*  pytorch >= 1.0.0\n",
        "\n",
        "*  livelossplot (optional, just for showing loss)\n"
      ]
    },
    {
      "cell_type": "markdown",
      "metadata": {
        "id": "DFUhwN_J6os9",
        "colab_type": "text"
      },
      "source": [
        "Install necessary packages.\n",
        "\n",
        "**Note** that currently we use the branch version_up instead of master of cotk\n",
        "until version_up is merged into master."
      ]
    },
    {
      "cell_type": "code",
      "metadata": {
        "id": "k4iaR9TN9q-a",
        "colab_type": "code",
        "colab": {}
      },
      "source": [
        "!rm -rf test && mkdir -p test && cd test && git clone -b version_up https://github.com/thu-coai/cotk.git && pip3 install ./cotk\n",
        "!pip install livelossplot"
      ],
      "execution_count": null,
      "outputs": []
    },
    {
      "cell_type": "markdown",
      "metadata": {
        "id": "XWCqW1NR55uJ",
        "colab_type": "text"
      },
      "source": [
        "## Preparing the data"
      ]
    },
    {
      "cell_type": "code",
      "metadata": {
        "id": "wXPYm7SA8zbP",
        "colab_type": "code",
        "colab": {
          "base_uri": "https://localhost:8080/",
          "height": 306
        },
        "outputId": "4b7074f3-9951-4fb3-e0bd-dcb82283c326"
      },
      "source": [
        "from cotk.dataloader import MSCOCO\n",
        "from pprint import pprint\n",
        "dataloader = MSCOCO(\"resources://MSCOCO_small\") # \"resources://MSCOCO_small\" is a predefined resources name\n",
        "print(\"Vocab Size:\", dataloader.frequent_vocab_size)\n",
        "print(\"First 10 tokens:\",  dataloader.frequent_vocab_list[:10])\n",
        "data = dataloader.get_batch(\"train\", [0]) # get the sample of id 0\n",
        "pprint(data, width=200)\n",
        "print(dataloader.convert_ids_to_tokens(data['sent'][0]))"
      ],
      "execution_count": 2,
      "outputs": [
        {
          "output_type": "stream",
          "text": [
            "INFO: downloading resources\n",
            "INFO: name: MSCOCO_small\n",
            "INFO: source: default\n",
            "INFO: url: https://cotk-data.s3-ap-northeast-1.amazonaws.com/mscoco_small.zip\n",
            "INFO: processor: MSCOCO\n"
          ],
          "name": "stdout"
        },
        {
          "output_type": "stream",
          "text": [
            "100%|██████████| 1020154/1020154 [00:00<00:00, 1265532.43B/s]"
          ],
          "name": "stderr"
        },
        {
          "output_type": "stream",
          "text": [
            "INFO: resource cached at /root/.cotk_cache/bd12bbf8ce8b157cf620e929bb36379443876ad115951dfeafb63d50b280cff2_temp\n"
          ],
          "name": "stdout"
        },
        {
          "output_type": "stream",
          "text": [
            "\n"
          ],
          "name": "stderr"
        },
        {
          "output_type": "stream",
          "text": [
            "Vocab Size: 2597\n",
            "First 10 tokens: ['<pad>', '<unk>', '<go>', '<eos>', '.', 'a', 'A', 'on', 'of', 'in']\n",
            "{'sent': array([[  2,   6,  67, 653, 550,  11,   5,  65,  89,  10, 115, 352,  83,\n",
            "          4,   3]]),\n",
            " 'sent_allvocabs': array([[  2,   6,  67, 653, 550,  11,   5,  65,  89,  10, 115, 352,  83,\n",
            "          4,   3]]),\n",
            " 'sent_length': array([15]),\n",
            " 'sent_str': ['A blue lamp post with a sign for the yellow brick road .']}\n",
            "['A', 'blue', 'lamp', 'post', 'with', 'a', 'sign', 'for', 'the', 'yellow', 'brick', 'road', '.']\n"
          ],
          "name": "stdout"
        }
      ]
    },
    {
      "cell_type": "markdown",
      "metadata": {
        "id": "LzLTc-pi-8Oz",
        "colab_type": "text"
      },
      "source": [
        "## Training models\n",
        "\n",
        "First we construct a simple GRU Language model using *pytorch*."
      ]
    },
    {
      "cell_type": "code",
      "metadata": {
        "id": "9TRnOwGq8-xf",
        "colab_type": "code",
        "colab": {}
      },
      "source": [
        "  import torch\n",
        "  from torch import nn\n",
        "\n",
        "  embedding_size = 20\n",
        "  hidden_size = 20\n",
        "\n",
        "  class LanguageModel(nn.Module):\n",
        "      def __init__(self):\n",
        "          super().__init__()\n",
        "          self.embedding_layer = nn.Embedding(dataloader.frequent_vocab_size, embedding_size)\n",
        "          self.rnn = nn.GRU(embedding_size, hidden_size, batch_first=True)\n",
        "          self.output_layer = nn.Linear(hidden_size, dataloader.frequent_vocab_size)\n",
        "          self.crossentropy = nn.CrossEntropyLoss()\n",
        "\n",
        "      def forward(self, data):\n",
        "          # data is the dict returned by ``dataloader.get_batch``\n",
        "          sent = data['sent']\n",
        "          sent_length = data['sent_length']\n",
        "          # sent is a LongTensor whose shape is (batch_size, sent_length)\n",
        "          # sent_length is a list whose size is (batch_size)\n",
        "\n",
        "          incoming = self.embedding_layer(sent)\n",
        "          # incoming: (batch_size, sent_length, embedding_size)\n",
        "          incoming, _ = self.rnn(incoming)\n",
        "          # incoming: (batch_size, sent_length, hidden_size)\n",
        "          incoming = self.output_layer(incoming)\n",
        "          # incoming: (batch_size, sent_length, dataloader.vocab_size)\n",
        "\n",
        "          loss = []\n",
        "          for i, length in enumerate(sent_length):\n",
        "              if length > 1:\n",
        "                  loss.append(self.crossentropy(incoming[i, :length-1], sent[i, 1:length]))\n",
        "                  # every time step predict next token\n",
        "\n",
        "          data[\"gen_log_prob\"] = nn.LogSoftmax(dim=-1)(incoming)\n",
        "\n",
        "          if len(loss) > 0:\n",
        "             return torch.stack(loss).mean()\n",
        "          else:\n",
        "              return 0\n"
      ],
      "execution_count": 7,
      "outputs": []
    },
    {
      "cell_type": "markdown",
      "metadata": {
        "id": "C-J2cr3u_FK8",
        "colab_type": "text"
      },
      "source": [
        "If you are familiar with GRU, you can see the codes constructed a network for predicting next token. Then, we will train our model with the help of cotk. (It may takes several minutes to train the model.)"
      ]
    },
    {
      "cell_type": "code",
      "metadata": {
        "id": "1I0y3gzK81dG",
        "colab_type": "code",
        "colab": {
          "base_uri": "https://localhost:8080/",
          "height": 377
        },
        "outputId": "d22af4a5-2b6a-45ef-834b-202ec67aebae"
      },
      "source": [
        "    from livelossplot import PlotLosses\n",
        "    import numpy as np\n",
        "\n",
        "    net = LanguageModel()\n",
        "    optimizer = torch.optim.Adam(net.parameters(), lr=5e-3)\n",
        "    epoch_num = 100\n",
        "    batch_size = 16\n",
        "    plot = PlotLosses()\n",
        "\n",
        "    for j in range(epoch_num):\n",
        "        loss_arr = []\n",
        "        for i, data in enumerate(dataloader.get_batches(\"train\", batch_size)):\n",
        "            # convert numpy to torch.LongTensor\n",
        "            data['sent'] = torch.LongTensor(data['sent'])\n",
        "            net.zero_grad()\n",
        "            loss = net(data)\n",
        "            loss_arr.append(loss.tolist())\n",
        "            loss.backward()\n",
        "            optimizer.step()\n",
        "            if i >= 40:\n",
        "                break # break for shorten time of an epoch\n",
        "        plot.update({\"loss\": np.mean(loss_arr)})\n",
        "        plot.draw()\n",
        "        print(\"epoch %d/%d\" % (j+1, epoch_num))"
      ],
      "execution_count": 8,
      "outputs": [
        {
          "output_type": "display_data",
          "data": {
            "image/png": "[encoded data removed]",
            "text/plain": [
              "<Figure size 864x576 with 1 Axes>"
            ]
          },
          "metadata": {
            "tags": [],
            "needs_background": "light"
          }
        },
        {
          "output_type": "stream",
          "text": [
            "Loss\n",
            "\tloss             \t (min:    3.161, max:    6.577, cur:    3.239)\n",
            "epoch 100/100\n"
          ],
          "name": "stdout"
        }
      ]
    },
    {
      "cell_type": "markdown",
      "metadata": {
        "id": "50XtULnO_JAB",
        "colab_type": "text"
      },
      "source": [
        "## Evaluations\n",
        "\n",
        "How well our model can fit the data? cotk provides some standard metrics for language generation model."
      ]
    },
    {
      "cell_type": "markdown",
      "metadata": {
        "id": "3Gph40_Y_1uV",
        "colab_type": "text"
      },
      "source": [
        "\n",
        "### Teacher Forcing\n",
        "\n",
        "`perplexity` is a common used metric and it need the predicted distribution over words. Recall we have set `data[\"gen_log_prob\"]` in previous section, we use it right now."
      ]
    },
    {
      "cell_type": "code",
      "metadata": {
        "id": "9gOf0Qs083Xc",
        "colab_type": "code",
        "colab": {
          "base_uri": "https://localhost:8080/",
          "height": 50
        },
        "outputId": "0fa04b0c-d9b4-4ca5-a440-f69171e7c5c7"
      },
      "source": [
        "metric = dataloader.get_teacher_forcing_metric(gen_log_prob_key=\"gen_log_prob\")\n",
        "for i, data in enumerate(dataloader.get_batches(\"test\", batch_size)):\n",
        "    # convert numpy to torch.LongTensor\n",
        "    data['sent'] = torch.LongTensor(data['sent'])\n",
        "    with torch.no_grad():\n",
        "        net(data)\n",
        "    assert \"gen_log_prob\" in data\n",
        "    metric.forward(data)\n",
        "pprint(metric.close(), width=150)"
      ],
      "execution_count": 9,
      "outputs": [
        {
          "output_type": "stream",
          "text": [
            "test set restart, 78 batches and 2 left\n",
            "{'perplexity': 34.22552934535805, 'perplexity hashvalue': '2cc7ecfad6f2b41949648225e043d0b2f8bcf283aae5ef773e821f641b8a9763'}\n"
          ],
          "name": "stdout"
        }
      ]
    },
    {
      "cell_type": "markdown",
      "metadata": {
        "id": "nyJtKRF4_fEQ",
        "colab_type": "text"
      },
      "source": [
        "### Free Run\n",
        "\n",
        "A language model can also generate sentences by sending the generated token back to input in each step. It is called “freerun” or “inference” mode.\n",
        "\n",
        "*Pytorch* doesn’t provide a convenience api for freerun, here we implement a simple version that all the prefixes will be recalculated at every step."
      ]
    },
    {
      "cell_type": "code",
      "metadata": {
        "id": "4hMDvVyT85AG",
        "colab_type": "code",
        "colab": {
          "base_uri": "https://localhost:8080/",
          "height": 420
        },
        "outputId": "552c0ec0-5954-40bb-a1e2-db1bebf0ebae"
      },
      "source": [
        "metric = dataloader.get_inference_metric(gen_key=\"gen\")\n",
        "generate_sample_num = 1\n",
        "max_sent_length = 20\n",
        "\n",
        "for i in range(generate_sample_num):\n",
        "    # convert numpy to torch.LongTensor\n",
        "    data['sent'] = torch.LongTensor([[dataloader.go_id] for _ in range(batch_size)])\n",
        "    data['sent_length'] = np.array([1 for _ in range(batch_size)])\n",
        "    for j in range(max_sent_length):\n",
        "        with torch.no_grad():\n",
        "            net(data)\n",
        "            generated_token = torch.multinomial(data['gen_log_prob'].exp()[:, -1], 1)\n",
        "        data['sent'] = torch.cat([data['sent'], generated_token], dim=-1)\n",
        "\n",
        "    metric.forward({\"gen\": data['sent'][:, 1:].tolist()})\n",
        "pprint(metric.close(), width=250)"
      ],
      "execution_count": 10,
      "outputs": [
        {
          "output_type": "stream",
          "text": [
            "100%|██████████| 1000/1000 [00:00<00:00, 1104.71it/s]\n",
            "100%|██████████| 1250/1250 [00:01<00:00, 1092.16it/s]\n"
          ],
          "name": "stderr"
        },
        {
          "output_type": "stream",
          "text": [
            "{'bw-bleu': 0.0552594607682451,\n",
            " 'fw-bleu': 0.26895525176213,\n",
            " 'fw-bw-bleu': 0.0916819725247384,\n",
            " 'fw-bw-bleu hashvalue': 'b8b072913c122176b5a4bd3954eb1f48c921bb6c9e90b0e4547f2ad98cee56a5',\n",
            " 'gen': [['A', 'herd', 'of', 'items', 'with', 'different', 'toppings', 'on', 'a', 'snow', 'competition', '.'],\n",
            "         ['A', 'woman', 'oven', 'sits', 'decorated', 'and', 'forks', 'and', 'flowers', '.'],\n",
            "         ['A', 'couple', 'of', '<unk>', 'made', 'with', 'into', 'a', 'container', 'of', 'people', '.'],\n",
            "         ['A', 'person', 'sitting', 'at', 'the', 'snow', 'flower', 'by', 'a', 'drink', 'shows', 'his', 'giraffe', '.'],\n",
            "         ['A', 'girl', 'standing', 'on', 'the', 'wall', 'outfit', 'in', 'the', 'pedestrian', 'roses', '.'],\n",
            "         ['A', 'young', 'girl', 'is', 'standing', 'by', 'businesses', 'raised', '.'],\n",
            "         ['A', 'small', 'baseball', 'pitcher', 'down', 'a', 'tennis', 'ball', '.'],\n",
            "         ['A', 'boat', 'and', 'bananas', 'train', 'in', 'a', 'field', '.'],\n",
            "         ['A', 'white', 'double', 'decker', 'dock', 'sitting', 'inside', 'of', 'an', 'airplane', '.'],\n",
            "         ['A', 'boy', 'being', 'transit', 'fire', 'hydrant', 'in', 'a', 'room', '.'],\n",
            "         ['A', 'white', 'sink', '<unk>', 'a', 'vase', 'with', 'two', 'drinks', '.'],\n",
            "         ['A', 'very', 'cute', 'black', 'clock', 'sitting', 'on', 'ski', '<unk>', 'near', 'a', 'hallway', '.'],\n",
            "         ['A', 'large', 'plate', 'sliced', 'with', 'tomatoes', 'in', 'the', 'water', '.'],\n",
            "         ['A', 'plane', 'with', 'a', 'laptop', 'and', 'set', 'of', 'furniture', '.'],\n",
            "         ['A', 'person', 'sitting', 'on', 'a', 'skateboard', 'walk', 'a', 'dirt', 'area', 'near', 'the', '.'],\n",
            "         ['A', 'young', 'boy', 'laying', 'around', 'with', 'a', 'red', 'table', '.']],\n",
            " 'self-bleu': 0.05696094523203348,\n",
            " 'self-bleu hashvalue': '90865484e69f47cf7aea7f89b1b1b563972ed140e8f0e6e8ec8064b7155c534c'}\n"
          ],
          "name": "stdout"
        }
      ]
    },
    {
      "cell_type": "markdown",
      "metadata": {
        "id": "xVYcvWzM_oz8",
        "colab_type": "text"
      },
      "source": [
        "### Hash value\n",
        "\n",
        "Hash value is for checking whether you use the test set correctly. We can refer to the dashboard for the state of art on this dataset, and we find our hashvalue is correct.\n",
        "\n",
        "However, if teacher forcing is tested as following codes, we will see a different hash value, which means the implementation is not correct."
      ]
    },
    {
      "cell_type": "code",
      "metadata": {
        "id": "-aTlXelpTr5k",
        "colab_type": "code",
        "colab": {
          "base_uri": "https://localhost:8080/",
          "height": 50
        },
        "outputId": "424f036c-c196-4353-b8d8-172571f92e7b"
      },
      "source": [
        "metric = dataloader.get_teacher_forcing_metric(gen_log_prob_key=\"gen_log_prob\")\n",
        "for i, data in enumerate(dataloader.get_batches(\"test\", batch_size)):\n",
        "    # convert numpy to torch.LongTensor\n",
        "    data['sent'] = torch.LongTensor(data['sent'])\n",
        "    with torch.no_grad():\n",
        "        net(data)\n",
        "    assert \"gen_log_prob\" in data\n",
        "    metric.forward(data)\n",
        "    if i >= 15: #ignore the following batches\n",
        "        break\n",
        "pprint(metric.close(), width=150)"
      ],
      "execution_count": 11,
      "outputs": [
        {
          "output_type": "stream",
          "text": [
            "test set restart, 78 batches and 2 left\n",
            "{'perplexity': 31.935582929323076, 'perplexity hashvalue': 'd38265b09387b07be8461f54a7879250b196b0f5bbd3669dc5c6cd17958d81f8'}\n"
          ],
          "name": "stdout"
        }
      ]
    }
  ]
}